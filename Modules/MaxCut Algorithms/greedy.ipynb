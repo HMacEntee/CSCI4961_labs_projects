{
 "cells": [
  {
   "cell_type": "markdown",
   "id": "baf0c213-699b-4d71-8ea7-57ce262a23db",
   "metadata": {},
   "source": [
    "# Greedy Algorithm on MaxCut Problem"
   ]
  },
  {
   "cell_type": "markdown",
   "id": "9a03e4b1-873e-40a3-9c1f-b8acfb417605",
   "metadata": {},
   "source": [
    "In this notebook, we introduce Greedy Algorithm implementation for the MaxCut Problem.\n",
    "\n",
    "1. [Introduction](#intro)\n",
    "2. [Greedy Function](#greedy-function)\n",
    "3. [Testing](#testing)\n",
    "4. [Benchmarked Results](#benchmarked-results)\n",
    "5. [Conclusion and Exploration](#conclusion-and-exploration)"
   ]
  },
  {
   "cell_type": "markdown",
   "id": "7aa90614-1ef1-46d2-9a16-c9353f3e69bb",
   "metadata": {},
   "source": [
    "<a id='intro'></a>\n",
    "## 1. Introduction"
   ]
  },
  {
   "cell_type": "markdown",
   "id": "17895b34",
   "metadata": {},
   "source": [
    "## Brief Description of Greedy Algorithm\n",
    "\n",
    "- The MaxCut Problem: Of Graph Theory, The MaxCut Problem refers to finding a way to partition the vertices(nodes) of a graph into two sets, such that the number of edges(lines or connections between nodes) connecting those two sets (considered as a \"cut\") is maximized. This is an example of an NP-Hard(non-deterministic polynomial time hardness) problem. Basically, it means that there is no known efficient way to find a solution for this problem. This is why the application of computer algorithms such as the greedy can help us explore the problem to find a possible efficient formula.\n",
    "\n",
    "- The Greedy Algorithm: A self explanatory name, the greedy is a problem solving algorithm that aims to find the best possible next option at each iteration regardless of possible future consequences, in hopes that it will result in a favorable and/or optimal outcome.\n",
    "\n",
    "- The Greedy Algorithm on MaxCut: Each node, denoted by x, will be assigned a value of 0 or 1, post-cut. To find the next node: x^(k+1) from the current: x^k, we just look for the neighboring node with the highest score from the current node. However, it has a shortsightedness in that it is vulnerable to local minimums.\n",
    "\n",
    "### Library Imports"
   ]
  },
  {
   "cell_type": "code",
   "execution_count": null,
   "id": "2cbbbc34",
   "metadata": {},
   "outputs": [],
   "source": [
    "import copy\n",
    "import time\n",
    "from typing import List, Union\n",
    "%pip install numpy as np\n",
    "%pip install networkx as nx\n",
    "from util import read_nxgraph\n",
    "from util import obj_maxcut\n",
    "from util import transfer_nxgraph_to_weightmatrix"
   ]
  },
  {
   "cell_type": "markdown",
   "id": "8bc022a2",
   "metadata": {},
   "source": [
    "### Standard Library Imports:\n",
    "\n",
    "1. import copy\n",
    "    - Allows shallow and deep copying of objects.\n",
    "\n",
    "2. import time\n",
    "    - For calculating execution time, so as to measure efficiency and optimization\n",
    "\n",
    "3. from typing import List, Union\n",
    "    - Provides type hints for improved readability and error checking.\n",
    "\n",
    "### External Library Imports:\n",
    "\n",
    "4. %pip install numpy as np\n",
    "    - For numerical computations and array manipulation.\n",
    "\n",
    "5. %pip install networkx as nx\n",
    "    - For creating, analyzing, and manipulating graphs and networks.\n",
    "\n",
    "### Custom Library Imports (from util.py):\n",
    "\n",
    "6. from util import read_nxgraph\n",
    "    - Reads graph data from an input and returns it as a nx.Graph (networkx.Graph) object.\n",
    "\n",
    "7. from util import obj_maxcut\n",
    "    - Computes the score of a maxcut graph, given a solution.\n",
    "\n",
    "8. from util import transfer_nxgraph_to_weightmatrix\n",
    "    - Converts a NetworkX graph into a weight matrix representation.\n"
   ]
  },
  {
   "cell_type": "markdown",
   "id": "30c2fd3d",
   "metadata": {},
   "source": [
    "<a id='greedy-function'></a>\n",
    "# 2. Greedy Function"
   ]
  },
  {
   "cell_type": "code",
   "execution_count": null,
   "id": "7732ea84",
   "metadata": {},
   "outputs": [],
   "source": [
    "def greedy_maxcut(init_solution, num_steps: int, graph: nx.Graph) -> (int, Union[List[int], np.array], List[int]):\n",
    "# -------------------------------------- #\n",
    "#         Function Initializations       #\n",
    "# -------------------------------------- #\n",
    "    print('greedy')\n",
    "    start_time = time.time()\n",
    "    num_nodes = int(graph.number_of_nodes())\n",
    "    nodes = list(range(num_nodes))\n",
    "    assert sum(init_solution) == 0\n",
    "    if num_steps is None:\n",
    "        num_steps = num_nodes\n",
    "    curr_solution = copy.deepcopy(init_solution)\n",
    "    curr_score: int = obj_maxcut(curr_solution, graph)\n",
    "    init_score = curr_score\n",
    "    scores = []\n",
    "# -------------------------------------- #\n",
    "#           Loop through graph           #\n",
    "# -------------------------------------- #\n",
    "    for iteration in range(num_nodes):\n",
    "        if iteration >= num_steps:\n",
    "            break\n",
    "        score = obj_maxcut(curr_solution, graph)\n",
    "        print(f\"iteration: {iteration}, score: {score}\")\n",
    "        traversal_scores = []\n",
    "        traversal_solutions = []\n",
    "# -------------------------------------- #\n",
    "#              Nested Loop               #\n",
    "# -------------------------------------- #\n",
    "        # calc the new solution when moving to a new node. Then store the scores and solutions.\n",
    "        for node in nodes:\n",
    "            new_solution = copy.deepcopy(curr_solution)\n",
    "            # search a new solution and calc obj\n",
    "            new_solution[node] = (new_solution[node] + 1) % 2\n",
    "            new_score = obj_maxcut(new_solution, graph)\n",
    "            traversal_scores.append(new_score)\n",
    "            traversal_solutions.append(new_solution)\n",
    "# -------------------------------------- #\n",
    "#             Find best score            #\n",
    "# -------------------------------------- #\n",
    "        best_score = max(traversal_scores)\n",
    "        index = traversal_scores.index(best_score)\n",
    "        best_solution = traversal_solutions[index]\n",
    "        if best_score > curr_score:\n",
    "            scores.append(best_score)\n",
    "            curr_score = best_score\n",
    "            curr_solution = best_solution\n",
    "        else:\n",
    "            break\n",
    "# -------------------------------------- #\n",
    "#         Outputs/Print Statements       #\n",
    "# -------------------------------------- #\n",
    "    print(\"score, init_score of greedy\", curr_score, init_score)\n",
    "    print(\"scores: \", traversal_scores)\n",
    "    print(\"solution: \", curr_solution)\n",
    "    running_duration = time.time() - start_time\n",
    "    print('running_duration: ', running_duration)\n",
    "    return curr_score, curr_solution, scores"
   ]
  },
  {
   "cell_type": "markdown",
   "id": "f372f217",
   "metadata": {},
   "source": [
    "### Function Initializations\n",
    "\n",
    "- Initializes function start time, total number of nodes, and the list of all nodes.\n",
    "- Makes sure the initial solution does not equal 0.\n",
    "- num_steps is the total number of iterations we will pursue. If it does not have a value (None) in the parameter, we will set it equal to num_nodes.\n",
    "- Makes a clone of the initial solution.\n",
    "- curr_score, curr_solution, and scores will be output at the end of the program.\n",
    "\n",
    "### Loop Through Graph\n",
    "\n",
    "- for each iteration, up to num_steps, the path with the highest score is chosen to move on to.\n",
    "- scores and solutions are recorded at the beginning of each loop.\n",
    "- We use the obj_maxcut function to find the score of each nested loop's iterations to calculate which path we should take; these are stored in the temp vars we created at the beginning.\n",
    "\n",
    "### Find Best Score\n",
    "\n",
    "- After finding the traversal scores, we find the one with the best (highest) value, and if it is higher than the current score, we move onto that node/path. If the score is not higher than curr_score, the program is at a maxima and will not continue, ending the loop.\n",
    "\n",
    "### Outputs/Print Statements\n",
    "\n",
    "- The final and initial score, as well as a list of all the scores inclusive are output.\n",
    "- curr_solution is output.\n",
    "- The runtime is output."
   ]
  },
  {
   "cell_type": "markdown",
   "id": "3bf2a764",
   "metadata": {},
   "source": [
    "<a id='testing'></a>\n",
    "# 3. Testing"
   ]
  },
  {
   "cell_type": "code",
   "execution_count": null,
   "id": "3485c842",
   "metadata": {},
   "outputs": [],
   "source": [
    "if __name__ == '__main__':\n",
    "    # read data\n",
    "    graph = read_nxgraph('./data/syn/syn_50_176.txt')\n",
    "    weightmatrix = transfer_nxgraph_to_weightmatrix(graph)\n",
    "    # run alg\n",
    "    num_steps = 30\n",
    "    alg_name = 'GR'\n",
    "\n",
    "    # init_solution\n",
    "    init_solution = [0] * graph.number_of_nodes()\n",
    "    gr_score, gr_solution, gr_scores = greedy_maxcut(init_solution, num_steps, graph)"
   ]
  },
  {
   "cell_type": "markdown",
   "id": "50bb0b3d",
   "metadata": {},
   "source": [
    "### Read Data\n",
    "\n",
    "- In this section, different txt graph files can be input. In the data folder of this repository, there are multiple gsets of varying complexity and size. Bigger graphs take longer to iterate through, expectedly.\n",
    "\n",
    "### Run Alg\n",
    "\n",
    "- In this section, the number of total steps taken can be manipulated. The loop in the greedy function will terminate once the total number of nodes has been reached, however the num_steps variable can allow us to end it earlier.\n",
    "\n",
    "### Init_Solution\n",
    "\n",
    "- In this section, we create a starting point for our greedy function to iteratively improve upon. For this purpose we initialize all nodes to 0 to ensure a valid starting point."
   ]
  },
  {
   "cell_type": "markdown",
   "id": "c354d994",
   "metadata": {},
   "source": [
    "<a id='benchmarked-results'></a>\n",
    "# 4. Benchmarked Results"
   ]
  },
  {
   "attachments": {
    "image.png": {
     "image/png": "[encoded data removed]"
    }
   },
   "cell_type": "markdown",
   "id": "2ae88818",
   "metadata": {},
   "source": [
    "Due to the inefficiency of the greedy algorithm, the normal 7 Gset graphs we were using to benchmark all MaxCut algorithms were not feasible. Therefore, only the data for the more simpler graphs, Gset 14 and Gset 15, are shown for informative purposes.\n",
    "\n",
    "![image.png](attachment:image.png)"
   ]
  },
  {
   "cell_type": "markdown",
   "id": "ad386448",
   "metadata": {},
   "source": [
    "<a id='conclusion-and-exploration'></a>\n",
    "# 5. Conclusion and Exploration\n",
    "\n"
   ]
  }
 ],
 "metadata": {
  "kernelspec": {
   "display_name": "base",
   "language": "python",
   "name": "python3"
  },
  "language_info": {
   "codemirror_mode": {
    "name": "ipython",
    "version": 3
   },
   "file_extension": ".py",
   "mimetype": "text/x-python",
   "name": "python",
   "nbconvert_exporter": "python",
   "pygments_lexer": "ipython3",
   "version": "3.11.4"
  }
 },
 "nbformat": 4,
 "nbformat_minor": 5
}
